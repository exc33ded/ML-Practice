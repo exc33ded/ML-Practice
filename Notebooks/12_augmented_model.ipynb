{
 "cells": [
  {
   "cell_type": "code",
   "execution_count": 21,
   "id": "2c5982cc-9320-4a4c-bebf-5ecb31faf52d",
   "metadata": {},
   "outputs": [],
   "source": [
    "import numpy as np\n",
    "import pandas as pd\n",
    "import os\n",
    "from keras.preprocessing.image import ImageDataGenerator\n",
    "from sklearn.model_selection import train_test_split\n",
    "from keras.utils import plot_model\n",
    "from keras.models import Model\n",
    "from keras.layers import Input, Dense, Flatten, concatenate\n",
    "from keras.layers import Conv2D,Flatten,Dense,Dropout,BatchNormalization,MaxPooling2D\n",
    "import cv2\n",
    "\n",
    "from sklearn.preprocessing import StandardScaler\n",
    "from tensorflow.keras.utils import to_categorical\n",
    "\n",
    "import matplotlib.pyplot as plt\n",
    "from tensorflow.keras.metrics import Precision, Recall, SparseCategoricalAccuracy\n",
    "from tensorflow.keras.models import load_model\n",
    "\n",
    "from sklearn.metrics import classification_report, confusion_matrix, roc_auc_score\n",
    "import seaborn as sns\n",
    "\n",
    "from keras.callbacks import EarlyStopping\n",
    "\n",
    "import random\n",
    "\n",
    "\n",
    "from tensorflow.keras.callbacks import TensorBoard\n",
    "import time\n",
    "\n",
    "import tensorflow as tf\n",
    "import tensorflow_datasets as tfds\n",
    "from tensorflow.keras import layers\n",
    "\n",
    "from keras.regularizers import l2"
   ]
  },
  {
   "cell_type": "code",
   "execution_count": 22,
   "id": "fb2cdcfa-26c9-4ec1-9cb3-701196a13bd1",
   "metadata": {},
   "outputs": [],
   "source": [
    "NAME = f\"dementia_2pipleline_augmented_sampled_{int(time.time())}\"\n",
    "tensorboard = TensorBoard(log_dir = \"./logs/{}\".format(NAME))"
   ]
  },
  {
   "cell_type": "code",
   "execution_count": 23,
   "id": "e79c564a-3953-45e7-bf5c-55c3cb9ba74c",
   "metadata": {},
   "outputs": [
    {
     "data": {
      "text/plain": [
       "(70603, 16233, 20738, 4517)"
      ]
     },
     "execution_count": 23,
     "metadata": {},
     "output_type": "execute_result"
    }
   ],
   "source": [
    "folder = \"C:/Users/mohdf/OneDrive/Desktop/oasis/data/organised_mr\"\n",
    "excel_folder = \"E:/Faheem/oasis-scripts-master/FaheemSirKaData2.csv\"\n",
    "\n",
    "# main = \"C:/Users/mohdf/OneDrive/Desktop/oasis new/\"\n",
    "# folder = main + \"small\"\n",
    "# excel_folder = main + \"small_data.csv\"\n",
    "\n",
    "# 0 -> 0; 0.5 -> 1; 1 -> 2; 2 -> 3\n",
    "\n",
    "zero = []\n",
    "point5 = []\n",
    "one = []\n",
    "two = []\n",
    "   \n",
    "for dirname, _, filenames in os.walk(folder+'/0.0'):\n",
    "    for filename in filenames:\n",
    "        zero.append(os.path.join(dirname, filename))\n",
    "\n",
    "for dirname, _, filenames in os.walk(folder+'/0.5'):\n",
    "    for filename in filenames:\n",
    "        point5.append(os.path.join(dirname, filename))\n",
    "\n",
    "for dirname, _, filenames in os.walk(folder+'/1.0'):\n",
    "    for filename in filenames:\n",
    "        one.append(os.path.join(dirname, filename))\n",
    "\n",
    "for dirname, _, filenames in os.walk(folder+'/2.0'):\n",
    "    for filename in filenames:\n",
    "        two.append(os.path.join(dirname, filename))\n",
    "\n",
    "\n",
    "\n",
    "\n",
    "len(zero),len(point5),len(one),len(two)\n",
    "\n",
    "\n"
   ]
  },
  {
   "cell_type": "code",
   "execution_count": 4,
   "id": "643ec2f4-8944-446d-b3ff-56f70276fb08",
   "metadata": {},
   "outputs": [],
   "source": [
    "target_samples = 30000\n",
    "\n",
    "\n",
    "def oversample(target_sample, image_list):\n",
    "    # Define the number of original and duplicate samples\n",
    "    original_samples = len(image_list)\n",
    "    duplicate_samples = target_samples - original_samples\n",
    "    \n",
    "    # Sample 450 unique indices from your dataset\n",
    "    original_indices = random.sample(range(len(image_list)), k=original_samples)\n",
    "    \n",
    "    # Select 50 random duplicates from the 450 original samples\n",
    "    duplicate_indices = random.choices(original_indices, k=duplicate_samples)\n",
    "    \n",
    "    # Get the file paths of original and duplicate samples\n",
    "    original_images = [image_list[i] for i in original_indices]\n",
    "    duplicate_images = [image_list[i] for i in duplicate_indices]\n",
    "\n",
    "    return duplicate_images\n",
    "\n",
    "point5_sampled = oversample(target_samples,point5)\n",
    "one_sampled = oversample(target_samples,one)\n",
    "two_sampled = oversample(target_samples,two)\n",
    "\n",
    "# undersample\n",
    "zero_sampled = random.sample(zero, k=50000)\n"
   ]
  },
  {
   "cell_type": "code",
   "execution_count": 5,
   "id": "1f4c9642-7a44-437f-a360-b69785563560",
   "metadata": {},
   "outputs": [
    {
     "name": "stdout",
     "output_type": "stream",
     "text": [
      "70603 16233 20738 4517\n",
      "50000 13767 9262 25483\n",
      "50000 30000 30000 30000\n"
     ]
    }
   ],
   "source": [
    "print(len(zero),len(point5),len(one),len(two))\n",
    "print(len(zero_sampled),len(point5_sampled),len(one_sampled),len(two_sampled))\n",
    "print(len(zero_sampled),len(point5)+len(point5_sampled),len(one)+len(one_sampled),len(two)+len(two_sampled))"
   ]
  },
  {
   "cell_type": "code",
   "execution_count": 6,
   "id": "792fb3f4-e9ac-4346-a836-ac7c1c52ebb9",
   "metadata": {},
   "outputs": [],
   "source": [
    "image_paths = []\n",
    "labels = []\n",
    "image_names = []\n",
    "\n",
    "# since zero is undersampled\n",
    "for path in zero_sampled:\n",
    "    name = path.split(\"/\")[-1]\n",
    "    name = \"_\".join(name.split(\"_\")[0:3])\n",
    "    name = name[4:]\n",
    "    image_paths.append(path)\n",
    "    labels.append(0)\n",
    "    arr = [name,\"original\"]\n",
    "    image_names.append(arr)\n",
    "    \n",
    "for path in point5_sampled:\n",
    "    name = path.split(\"/\")[-1]\n",
    "    name = \"_\".join(name.split(\"_\")[0:3])\n",
    "    name = name[4:]\n",
    "    image_paths.append(path)\n",
    "    labels.append(1)\n",
    "    arr = [name,\"sampled\"]\n",
    "    image_names.append(arr)\n",
    "    \n",
    "for path in one_sampled:\n",
    "    name = path.split(\"/\")[-1]\n",
    "    name = \"_\".join(name.split(\"_\")[0:3])\n",
    "    name = name[4:]\n",
    "    image_paths.append(path)\n",
    "    labels.append(2)\n",
    "    arr = [name,\"sampled\"]\n",
    "    image_names.append(arr)\n",
    "\n",
    "for path in two_sampled:\n",
    "    name = path.split(\"/\")[-1]\n",
    "    name = \"_\".join(name.split(\"_\")[0:3])\n",
    "    name = name[4:]\n",
    "    image_paths.append(path)\n",
    "    labels.append(3)\n",
    "    arr = [name,\"sampled\"]\n",
    "    image_names.append(arr)\n",
    "    \n",
    "for path in point5:\n",
    "    name = path.split(\"/\")[-1]\n",
    "    name = \"_\".join(name.split(\"_\")[0:3])\n",
    "    name = name[4:]\n",
    "    image_paths.append(path)\n",
    "    labels.append(1)\n",
    "    arr = [name,\"original\"]\n",
    "    image_names.append(arr)\n",
    "    \n",
    "for path in one:\n",
    "    name = path.split(\"/\")[-1]\n",
    "    name = \"_\".join(name.split(\"_\")[0:3])\n",
    "    name = name[4:]\n",
    "    image_paths.append(path)\n",
    "    labels.append(2)\n",
    "    arr = [name,\"original\"]\n",
    "    image_names.append(arr)\n",
    "\n",
    "for path in two:\n",
    "    name = path.split(\"/\")[-1]\n",
    "    name = \"_\".join(name.split(\"_\")[0:3])\n",
    "    name = name[4:]\n",
    "    image_paths.append(path)\n",
    "    labels.append(3)\n",
    "    arr = [name,\"original\"]\n",
    "    image_names.append(arr)\n",
    "\n",
    "\n",
    "image_paths = np.array(image_paths)\n",
    "labels = np.array(labels)\n",
    "image_names = np.array(image_names)"
   ]
  },
  {
   "cell_type": "code",
   "execution_count": 7,
   "id": "94330cb7-b554-4bb2-9883-7c9abd76b559",
   "metadata": {},
   "outputs": [
    {
     "data": {
      "text/plain": [
       "(array(['original', 'sampled'], dtype='<U17'),\n",
       " array([91488, 48512], dtype=int64))"
      ]
     },
     "execution_count": 7,
     "metadata": {},
     "output_type": "execute_result"
    }
   ],
   "source": [
    "np.unique(image_names[:,1], return_counts=True)"
   ]
  },
  {
   "cell_type": "code",
   "execution_count": null,
   "id": "00024185-4129-479a-9d79-a367958cce74",
   "metadata": {},
   "outputs": [],
   "source": []
  },
  {
   "cell_type": "code",
   "execution_count": 8,
   "id": "22961ebd-3d5e-4e28-a805-75b71a6ec177",
   "metadata": {},
   "outputs": [],
   "source": [
    "train_images, test_images, train_labels, test_labels, train_names, test_names = train_test_split(\n",
    "    image_paths, labels, image_names, test_size=0.2, random_state=42\n",
    ")\n",
    "train_images, val_images, train_labels, val_labels, train_names, val_names = train_test_split(\n",
    "    train_images, train_labels, train_names, test_size=0.25, random_state=42\n",
    ")\n",
    "\n",
    "def image_generator(image_paths, image_names,labels, batch_size=32):\n",
    "    while True:\n",
    "        for i in range(0, len(image_paths), batch_size):\n",
    "            image_batch = image_paths[i:i+batch_size]\n",
    "            image_name_batch = image_names[i:i+batch_size]\n",
    "            label_batch = labels[i:i+batch_size]\n",
    "            \n",
    "            df = pd.read_csv(excel_folder)\n",
    "            patient_id = df[\"MR ID\"].values\n",
    "\n",
    "            matched_images = []\n",
    "            matched_labels = []\n",
    "            matched_csv = []\n",
    "            matched_type = []\n",
    "\n",
    "            \n",
    "            for j, arr in enumerate(image_name_batch):\n",
    "                img_id = arr[0]\n",
    "                img_type = arr[1]\n",
    "                if img_id in patient_id:\n",
    "                    matched_images.append(image_batch[j])\n",
    "                    matched_labels.append(label_batch[j])\n",
    "                    matched_csv.append(df.loc[df[\"MR ID\"] == img_id].drop(columns=[\"MR ID\", \"target\",\"Subject\",\"dx1_list2\"]).values[0])\n",
    "                    # matched_csv.append(df.loc[df[\"MR ID\"] == img_id].drop(columns=[\"MR ID\", \"target\"]).values[0])\n",
    "                    matched_type.append(img_type)\n",
    "                    \n",
    "            \n",
    "            matched_images = np.array(matched_images)\n",
    "            matched_labels = np.array(matched_labels)\n",
    "            matched_csv = np.array(matched_csv)\n",
    "            matched_type = np.array(matched_type)\n",
    "            \n",
    "            # Load and process the images in this batch\n",
    "            image_array = []\n",
    "            for index,path in enumerate(matched_images):\n",
    "                image = cv2.imread(path)\n",
    "                if matched_type[index] == \"sampled\":\n",
    "                    image = random_augment(image)\n",
    "                image = cv2.resize(image, (256, 256))\n",
    "                image_array.append(image)\n",
    "\n",
    "            image_array = np.array(image_array)\n",
    "            image_array = image_array / 255.0\n",
    "\n",
    "            scaler = StandardScaler()\n",
    "            matched_csv_normalized = scaler.fit_transform(matched_csv)\n",
    "            matched_csv = matched_csv_normalized\n",
    "\n",
    "            yield [image_array, matched_csv], to_categorical(matched_labels, num_classes=4)\n",
    "\n",
    "\n",
    "# Create the generators for training, validation, and testing\n",
    "train_generator = image_generator(train_images, train_names, train_labels)\n",
    "val_generator = image_generator(val_images, val_names, val_labels)\n",
    "test_generator = image_generator(test_images, test_names, test_labels)\n"
   ]
  },
  {
   "cell_type": "code",
   "execution_count": 9,
   "id": "28dd60cb-f7b4-4677-9838-6ae73555c102",
   "metadata": {},
   "outputs": [],
   "source": [
    "# Define Augmentation Functions\n",
    "def flip_horizontal(image):\n",
    "  \"\"\"Flips the image horizontally.\"\"\"\n",
    "  return cv2.flip(image, 1)  # 1 for horizontal flip\n",
    "\n",
    "def flip_vertical(image):\n",
    "  \"\"\"Flips the image vertically.\"\"\"\n",
    "  return cv2.flip(image, 0)  # 0 for vertical flip\n",
    "\n",
    "def rotate(image, angle):\n",
    "  \"\"\"Rotates the image by a given angle.\"\"\"\n",
    "  (h, w) = image.shape[:2]\n",
    "  center = (w // 2, h // 2)\n",
    "  rotation_matrix = cv2.getRotationMatrix2D(center, angle, 1.0)\n",
    "  return cv2.warpAffine(image, rotation_matrix, (w, h))\n",
    "\n",
    "def scale(image, scale_factor):\n",
    "  \"\"\"Scales the image by a given factor.\"\"\"\n",
    "  return cv2.resize(image, None, fx=scale_factor, fy=scale_factor, interpolation=cv2.INTER_CUBIC)\n",
    "\n",
    "\n",
    "\n",
    "def flip_augment(image):\n",
    "  \"\"\"Flips the image horizontally or vertically with random probability.\"\"\"\n",
    "  if random.random() > 0.5:\n",
    "    return flip_horizontal(image)\n",
    "  else:\n",
    "    return flip_vertical(image)\n",
    "\n",
    "def rotate_augment(image, angle_range=(-360, 360)):\n",
    "  \"\"\"Rotates the image by a random angle within a specified range.\"\"\"\n",
    "  angle = random.uniform(*angle_range)  # Random angle within the range\n",
    "  return rotate(image, angle)\n",
    "\n",
    "def scale_augment(image, scale_range=(0.5, 2)):\n",
    "  \"\"\"Scales the image by a random factor within a specified range.\"\"\"\n",
    "  scale_factor = random.uniform(*scale_range)  # Random scale factor within the range\n",
    "  return scale(image, scale_factor)\n",
    "\n",
    "def random_augment(image):\n",
    "  \"\"\"Applies random augmentation (flip, rotate, or scale) to the image.\"\"\"\n",
    "  augmentations = [flip_augment, rotate_augment, scale_augment]\n",
    "  chosen_augment = random.choice(augmentations)\n",
    "  return chosen_augment(image)"
   ]
  },
  {
   "cell_type": "code",
   "execution_count": null,
   "id": "72304663-1e72-408e-bb19-a5da1f4107d3",
   "metadata": {},
   "outputs": [],
   "source": []
  },
  {
   "cell_type": "code",
   "execution_count": 10,
   "id": "9d35cbf8-a97a-463f-8f32-e9cbd6dd20e3",
   "metadata": {},
   "outputs": [],
   "source": [
    "# # Define the CNN model\n",
    "# image_input = Input(shape=(256, 256, 3))  # Updated shape based on the target_size\n",
    "# csv_input = Input(shape=(580))\n",
    "# # csv_input = Input(shape=(8))\n",
    "\n",
    "# x = Conv2D(32, (3, 3), activation='relu')(image_input)\n",
    "# x = MaxPooling2D(pool_size=(2, 2))(x)\n",
    "# x = Dropout(0.25)(x)\n",
    "# x = Conv2D(64, (3, 3), activation='relu')(x)\n",
    "# x = MaxPooling2D(pool_size=(2, 2))(x)\n",
    "# x = Dropout(0.25)(x)\n",
    "# x = Conv2D(128, (3, 3), activation='relu')(x)\n",
    "# x = MaxPooling2D(pool_size=(2, 2))(x)\n",
    "# x = Dropout(0.25)(x)\n",
    "# x = Flatten()(x)\n",
    "# x = Dense(64, activation='relu')(x)\n",
    "# x = Dropout(0.5)(x)\n",
    "# x = Flatten()(x)\n",
    "# x = Dense(16, activation='relu')(x)\n",
    "# x = Model(inputs=image_input, outputs=x)\n",
    "\n",
    "# y = Dense(64, activation='relu')(csv_input)\n",
    "# y = Dense(32, activation=\"relu\")(y)\n",
    "# y = Dense(16, activation=\"relu\")(y)\n",
    "# y = Model(inputs=csv_input, outputs=y)\n",
    "\n",
    "# combined = concatenate([x.output, y.output])\n",
    "\n",
    "# z = Dense(2, activation=\"relu\")(combined)\n",
    "# z = Dense(10, activation='relu')(z)\n",
    "# output = Dense(4, activation='softmax')(z)\n"
   ]
  },
  {
   "cell_type": "code",
   "execution_count": 11,
   "id": "e8ed643a-b1ba-43d7-9c11-547aac7a1f8d",
   "metadata": {},
   "outputs": [],
   "source": [
    "# Define the CNN model\n",
    "image_input = Input(shape=(256, 256, 3))  # Updated shape based on the target_size\n",
    "csv_input = Input(shape=(580))\n",
    "\n",
    "# CNN layers\n",
    "x = Conv2D(32, (3, 3), activation='relu')(image_input)\n",
    "x = MaxPooling2D(pool_size=(2, 2))(x)\n",
    "x = Dropout(0.25)(x)\n",
    "x = Conv2D(64, (3, 3), activation='relu')(x)\n",
    "x = MaxPooling2D(pool_size=(2, 2))(x)\n",
    "x = Dropout(0.25)(x)\n",
    "x = Conv2D(128, (3, 3), activation='relu')(x)\n",
    "x = MaxPooling2D(pool_size=(2, 2))(x)\n",
    "x = Dropout(0.25)(x)\n",
    "x = Flatten()(x)\n",
    "x = Dense(64, activation='relu', kernel_regularizer=l2(0.001))(x)  # Adding L2 regularization\n",
    "x = Dropout(0.5)(x)\n",
    "x = Dense(16, activation='relu', kernel_regularizer=l2(0.001))(x)  # Adding L2 regularization\n",
    "x = Model(inputs=image_input, outputs=x)\n",
    "\n",
    "# CSV input layers\n",
    "y = Dense(64, activation='relu', kernel_regularizer=l2(0.001))(csv_input)  # Adding L2 regularization\n",
    "y = Dense(32, activation=\"relu\", kernel_regularizer=l2(0.001))(y)  # Adding L2 regularization\n",
    "y = Dense(16, activation=\"relu\", kernel_regularizer=l2(0.001))(y)  # Adding L2 regularization\n",
    "y = Model(inputs=csv_input, outputs=y)\n",
    "\n",
    "# Combined model\n",
    "combined = concatenate([x.output, y.output])\n",
    "\n",
    "z = Dense(2, activation=\"relu\", kernel_regularizer=l2(0.001))(combined)  # Adding L2 regularization\n",
    "z = Dense(10, activation='relu', kernel_regularizer=l2(0.001))(z)  # Adding L2 regularization\n",
    "output = Dense(4, activation='softmax', kernel_regularizer=l2(0.001))(z)  # Adding L2 regularization"
   ]
  },
  {
   "cell_type": "code",
   "execution_count": 12,
   "id": "d04fbc58-6701-4766-8904-48a6918e4ed0",
   "metadata": {},
   "outputs": [],
   "source": [
    "model = Model(inputs=[image_input,csv_input], outputs=output)\n",
    "model.compile(optimizer='adam', loss='categorical_crossentropy', metrics=[tf.keras.metrics.Precision(),'accuracy'])"
   ]
  },
  {
   "cell_type": "code",
   "execution_count": 13,
   "id": "24f62ce2-5e22-4b86-88a9-f20d311a6e8c",
   "metadata": {},
   "outputs": [
    {
     "name": "stdout",
     "output_type": "stream",
     "text": [
      "Epoch 1/10\n",
      "2625/2625 [==============================] - 1634s 619ms/step - loss: 0.2898 - precision: 0.9912 - accuracy: 0.9289 - val_loss: 0.0798 - val_precision: 0.9968 - val_accuracy: 0.9965\n",
      "Epoch 2/10\n",
      "2625/2625 [==============================] - 1609s 613ms/step - loss: 0.0691 - precision: 0.9972 - accuracy: 0.9971 - val_loss: 0.0579 - val_precision: 0.9982 - val_accuracy: 0.9981\n",
      "Epoch 3/10\n",
      "2625/2625 [==============================] - 1613s 615ms/step - loss: 0.0578 - precision: 0.9977 - accuracy: 0.9976 - val_loss: 0.0500 - val_precision: 0.9988 - val_accuracy: 0.9987\n",
      "Epoch 4/10\n",
      "2625/2625 [==============================] - 1616s 616ms/step - loss: 0.0517 - precision: 0.9980 - accuracy: 0.9979 - val_loss: 0.0457 - val_precision: 0.9989 - val_accuracy: 0.9989\n",
      "Epoch 5/10\n",
      "2625/2625 [==============================] - 1634s 622ms/step - loss: 0.0478 - precision: 0.9984 - accuracy: 0.9983 - val_loss: 0.0421 - val_precision: 0.9993 - val_accuracy: 0.9993\n",
      "Epoch 6/10\n",
      "2625/2625 [==============================] - 1613s 614ms/step - loss: 0.0465 - precision: 0.9985 - accuracy: 0.9984 - val_loss: 0.0432 - val_precision: 0.9990 - val_accuracy: 0.9990\n",
      "Epoch 7/10\n",
      "2625/2625 [==============================] - 1617s 616ms/step - loss: 0.0431 - precision: 0.9989 - accuracy: 0.9988 - val_loss: 0.0400 - val_precision: 0.9992 - val_accuracy: 0.9992\n",
      "Epoch 8/10\n",
      "2625/2625 [==============================] - 1633s 622ms/step - loss: 0.0431 - precision: 0.9986 - accuracy: 0.9985 - val_loss: 0.0400 - val_precision: 0.9992 - val_accuracy: 0.9992\n",
      "Epoch 9/10\n",
      "2625/2625 [==============================] - 1614s 615ms/step - loss: 0.0422 - precision: 0.9987 - accuracy: 0.9987 - val_loss: 0.0394 - val_precision: 0.9992 - val_accuracy: 0.9991\n",
      "Epoch 10/10\n",
      "2625/2625 [==============================] - 1614s 615ms/step - loss: 0.0422 - precision: 0.9986 - accuracy: 0.9986 - val_loss: 0.0388 - val_precision: 0.9994 - val_accuracy: 0.9994\n"
     ]
    }
   ],
   "source": [
    "\n",
    "# Define early stopping callback\n",
    "early_stopping = EarlyStopping(monitor='val_loss', patience=3, restore_best_weights=True)\n",
    "\n",
    "batch_size = 32\n",
    "steps_per_epoch = len(train_images) // batch_size \n",
    "validation_steps = len(val_images) // batch_size \n",
    "\n",
    "history = model.fit(\n",
    "    train_generator,\n",
    "    steps_per_epoch= steps_per_epoch,\n",
    "    validation_data= ( val_generator),\n",
    "    validation_steps = validation_steps,\n",
    "    epochs=10,\n",
    "    callbacks=[tensorboard,early_stopping]\n",
    ")\n",
    "\n"
   ]
  },
  {
   "cell_type": "code",
   "execution_count": 14,
   "id": "cadea98f-1b3e-43f0-87a1-99f34ca9a608",
   "metadata": {},
   "outputs": [],
   "source": [
    "# # Evaluate the model\n",
    "# test_steps = len(test_images) // batch_size \n",
    "# loss, accuracy = model.evaluate(test_generator, steps=test_steps)\n",
    "# print(f\"Test Loss: {loss}\")\n",
    "# print(f\"Test Accuracy: {accuracy}\")"
   ]
  },
  {
   "cell_type": "code",
   "execution_count": 15,
   "id": "9d98b040-9615-4bbe-91e4-f43dff7ffc52",
   "metadata": {},
   "outputs": [
    {
     "name": "stdout",
     "output_type": "stream",
     "text": [
      "875/875 [==============================] - 403s 461ms/step - loss: 0.0388 - precision: 0.9993 - accuracy: 0.9992\n",
      "Test Loss: 0.038760799914598465\n",
      "Test Accuracy: 0.9992856383323669\n"
     ]
    }
   ],
   "source": [
    "test_steps = len(test_images) // batch_size \n",
    "loss_and_metrics = model.evaluate(test_generator, steps=test_steps)\n",
    "print(f\"Test Loss: {loss_and_metrics[0]}\")\n",
    "print(f\"Test Accuracy: {loss_and_metrics[1]}\")"
   ]
  },
  {
   "cell_type": "code",
   "execution_count": 16,
   "id": "8b087dc0-4334-4ff3-b62e-8b013692f770",
   "metadata": {},
   "outputs": [
    {
     "data": {
      "text/plain": [
       "[0.038760799914598465, 0.9992856383323669, 0.9992499947547913]"
      ]
     },
     "execution_count": 16,
     "metadata": {},
     "output_type": "execute_result"
    }
   ],
   "source": [
    "loss_and_metrics"
   ]
  },
  {
   "cell_type": "code",
   "execution_count": 17,
   "id": "ec6b232a-9f6c-4eb7-952b-1f73b5a42711",
   "metadata": {},
   "outputs": [
    {
     "name": "stdout",
     "output_type": "stream",
     "text": [
      "875/875 [==============================] - 402s 460ms/step\n",
      "Classification Report:\n",
      "              precision    recall  f1-score   support\n",
      "\n",
      "           0       0.36      0.36      0.36     10105\n",
      "           1       0.21      0.21      0.21      5946\n",
      "           2       0.21      0.21      0.21      5974\n",
      "           3       0.22      0.22      0.22      5975\n",
      "\n",
      "   micro avg       0.26      0.26      0.26     28000\n",
      "   macro avg       0.25      0.25      0.25     28000\n",
      "weighted avg       0.26      0.26      0.26     28000\n",
      "\n"
     ]
    }
   ],
   "source": [
    "# Predictions\n",
    "test_steps = len(test_images) // batch_size\n",
    "predictions = model.predict(test_generator, steps=test_steps)\n",
    "\n",
    "# Convert predictions from one-hot to categorical labels\n",
    "predicted_labels = np.argmax(predictions, axis=1)\n",
    "\n",
    "# True labels\n",
    "true_labels = []\n",
    "for i in range(test_steps):\n",
    "    _, labels = next(test_generator)\n",
    "    true_labels.extend(np.argmax(labels, axis=1))\n",
    "\n",
    "# Classification Report\n",
    "class_names = ['0', '1', '2', '3']\n",
    "report = classification_report(true_labels, predicted_labels, target_names=class_names, labels=['0', '1', '2', '3'], zero_division=1)\n",
    "print(\"Classification Report:\")\n",
    "print(report)"
   ]
  },
  {
   "cell_type": "code",
   "execution_count": 18,
   "id": "c2786e2a-2bfd-4e77-a209-5098747ea65d",
   "metadata": {},
   "outputs": [
    {
     "data": {
      "image/png": "[encoded data removed]",
      "text/plain": [
       "<Figure size 1200x500 with 2 Axes>"
      ]
     },
     "metadata": {},
     "output_type": "display_data"
    }
   ],
   "source": [
    "# Loss and Accuracy Plot\n",
    "plt.figure(figsize=(12, 5))\n",
    "plt.subplot(1, 2, 1)\n",
    "plt.plot(history.history['loss'], label='Training Loss')\n",
    "plt.plot(history.history['val_loss'], label='Validation Loss')\n",
    "plt.title('Training and Validation Loss')\n",
    "plt.xlabel('Epoch')\n",
    "plt.ylabel('Loss')\n",
    "plt.legend()\n",
    "\n",
    "plt.subplot(1, 2, 2)\n",
    "plt.plot(history.history['accuracy'], label='Training Accuracy')\n",
    "plt.plot(history.history['val_accuracy'], label='Validation Accuracy')\n",
    "plt.title('Training and Validation Accuracy')\n",
    "plt.xlabel('Epoch')\n",
    "plt.ylabel('Accuracy')\n",
    "plt.legend()\n",
    "plt.show()"
   ]
  },
  {
   "cell_type": "code",
   "execution_count": 19,
   "id": "a99e491f-64ae-40da-a009-1fabb57c3292",
   "metadata": {},
   "outputs": [
    {
     "data": {
      "image/png": "[encoded data removed]",
      "text/plain": [
       "<Figure size 800x600 with 2 Axes>"
      ]
     },
     "metadata": {},
     "output_type": "display_data"
    }
   ],
   "source": [
    "# Confusion Matrix\n",
    "cm = confusion_matrix(true_labels, predicted_labels)\n",
    "plt.figure(figsize=(8, 6))\n",
    "sns.heatmap(cm, annot=True, fmt='d', cmap='Blues', xticklabels=[0, 1, 2, 3], yticklabels=[0, 1, 2, 3])\n",
    "plt.xlabel('Predicted labels')\n",
    "plt.ylabel('True labels')\n",
    "plt.title('Confusion Matrix')\n",
    "plt.show()\n"
   ]
  },
  {
   "cell_type": "code",
   "execution_count": 20,
   "id": "119a948f-0bd8-47f9-9b63-1b8a23d3cb18",
   "metadata": {},
   "outputs": [
    {
     "name": "stdout",
     "output_type": "stream",
     "text": [
      "875/875 [==============================] - 402s 460ms/step\n",
      "ROC-AUC Score: 0.4979544991168429\n"
     ]
    }
   ],
   "source": [
    "# Predictions\n",
    "test_steps = len(test_images) // batch_size\n",
    "predictions = model.predict(test_generator, steps=test_steps)\n",
    "\n",
    "# True labels\n",
    "true_labels = []\n",
    "for i in range(test_steps):\n",
    "    _, labels = next(test_generator)\n",
    "    true_labels.extend(labels)\n",
    "\n",
    "roc_auc = roc_auc_score(true_labels, predictions, multi_class='ovr')\n",
    "print(\"ROC-AUC Score:\", roc_auc)"
   ]
  },
  {
   "cell_type": "code",
   "execution_count": null,
   "id": "99c3650e-fda4-49ec-9d37-6c500e97288f",
   "metadata": {},
   "outputs": [],
   "source": []
  }
 ],
 "metadata": {
  "kernelspec": {
   "display_name": "Python 3 (ipykernel)",
   "language": "python",
   "name": "python3"
  },
  "language_info": {
   "codemirror_mode": {
    "name": "ipython",
    "version": 3
   },
   "file_extension": ".py",
   "mimetype": "text/x-python",
   "name": "python",
   "nbconvert_exporter": "python",
   "pygments_lexer": "ipython3",
   "version": "3.10.14"
  }
 },
 "nbformat": 4,
 "nbformat_minor": 5
}
